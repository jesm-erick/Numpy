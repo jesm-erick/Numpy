{
  "nbformat": 4,
  "nbformat_minor": 0,
  "metadata": {
    "colab": {
      "provenance": [],
      "authorship_tag": "ABX9TyO/PrlRzeD/OBIW+Wd9H1hb",
      "include_colab_link": true
    },
    "kernelspec": {
      "name": "python3",
      "display_name": "Python 3"
    },
    "language_info": {
      "name": "python"
    }
  },
  "cells": [
    {
      "cell_type": "markdown",
      "metadata": {
        "id": "view-in-github",
        "colab_type": "text"
      },
      "source": [
        "<a href=\"https://colab.research.google.com/github/jesm-erick/Numpy/blob/main/Sesion1.ipynb\" target=\"_parent\"><img src=\"https://colab.research.google.com/assets/colab-badge.svg\" alt=\"Open In Colab\"/></a>"
      ]
    },
    {
      "cell_type": "code",
      "execution_count": 4,
      "metadata": {
        "id": "g76KZwYPz8j4"
      },
      "outputs": [],
      "source": [
        "#importamos la libreria numpy de python\n",
        "import numpy as  np"
      ]
    },
    {
      "cell_type": "code",
      "source": [
        "#creamos un array de una dimensión\n",
        "arreglo = np.array([1,2,3,9,8,7])\n",
        "print(arreglo)\n",
        "#hacemos referencia\n",
        "numero_par=arreglo[1] #hacemos referencia al numero 2 que esta en el índice 1\n",
        "print(numero_par)"
      ],
      "metadata": {
        "colab": {
          "base_uri": "https://localhost:8080/"
        },
        "id": "_r8XYYcA0Q6c",
        "outputId": "5a00b416-b812-4a9f-9173-81f4bd194f3c"
      },
      "execution_count": 81,
      "outputs": [
        {
          "output_type": "stream",
          "name": "stdout",
          "text": [
            "[1 2 3 9 8 7]\n",
            "2\n"
          ]
        }
      ]
    },
    {
      "cell_type": "code",
      "source": [
        "tablero = np.array([[1,2,3],[4,5,6],[7,8,9],[0,-1,-2]])\n",
        "print(tablero)"
      ],
      "metadata": {
        "colab": {
          "base_uri": "https://localhost:8080/"
        },
        "id": "l2RCNDKl1F2q",
        "outputId": "916e5aeb-ace6-4aba-d321-70b0f231c764"
      },
      "execution_count": 16,
      "outputs": [
        {
          "output_type": "stream",
          "name": "stdout",
          "text": [
            "[[ 1  2  3]\n",
            " [ 4  5  6]\n",
            " [ 7  8  9]\n",
            " [ 0 -1 -2]]\n"
          ]
        }
      ]
    },
    {
      "cell_type": "code",
      "source": [
        "#ejemplos de referencia a elementos del arreglo bidimensional\n",
        "n1 = tablero[0][0]#hacemos referencia al elemento ubicado en la fila 0 y columna 0\n",
        "print(n1)\n",
        "n2 = tablero[3][2]#hacemos referencia al elemento ubicado en la fila 3 y columna 2\n",
        "print(n2)\n",
        "n3 = tablero[2][2]#hacemos referencia al elemento ubicado en la fila 2 y columna 2\n",
        "print(n3)\n",
        "#recordar que los índices de filas y columnas inician en 0 y no en 1"
      ],
      "metadata": {
        "colab": {
          "base_uri": "https://localhost:8080/"
        },
        "id": "7xt6Ntsm2evY",
        "outputId": "93d93253-1082-4a5f-956e-aa8111a73095"
      },
      "execution_count": 25,
      "outputs": [
        {
          "output_type": "stream",
          "name": "stdout",
          "text": [
            "1\n",
            "-2\n",
            "9\n"
          ]
        }
      ]
    },
    {
      "cell_type": "markdown",
      "source": [
        "Propiedades principales de los arreglos"
      ],
      "metadata": {
        "id": "ebiw4B--4IlN"
      }
    },
    {
      "cell_type": "code",
      "source": [
        "#número de dimensiones, usamos la propiedad \"ndim\" para obtener\n",
        "#la dimensión de un arreglo\n",
        "print(arreglo.ndim)\n",
        "print(tablero.ndim)"
      ],
      "metadata": {
        "colab": {
          "base_uri": "https://localhost:8080/"
        },
        "id": "DjOQAhL94OKV",
        "outputId": "31964816-5aa1-4b8b-e19f-9b770c5d8c66"
      },
      "execution_count": 26,
      "outputs": [
        {
          "output_type": "stream",
          "name": "stdout",
          "text": [
            "1\n",
            "2\n"
          ]
        }
      ]
    },
    {
      "cell_type": "code",
      "source": [
        "#propiedad \"shape\", nos devuelve el número de columnas para un arreglo\n",
        "#de una sola dimensión y el número de columnas y filas para un arreglo de dos dimensiones\n",
        "print(arreglo.shape)\n",
        "print(tablero.shape)"
      ],
      "metadata": {
        "colab": {
          "base_uri": "https://localhost:8080/"
        },
        "id": "_c_YgK1I5AeB",
        "outputId": "250832d1-72ad-415d-8c47-b0cb8fdb42de"
      },
      "execution_count": 29,
      "outputs": [
        {
          "output_type": "stream",
          "name": "stdout",
          "text": [
            "(3,)\n",
            "(4, 3)\n"
          ]
        }
      ]
    },
    {
      "cell_type": "code",
      "source": [
        "#propiedad \"size\", nos devuelve el número total de elementos que tiene el arreglo\n",
        "print(arreglo.size)\n",
        "print(tablero.size)"
      ],
      "metadata": {
        "colab": {
          "base_uri": "https://localhost:8080/"
        },
        "id": "26m3B5Ar5fo-",
        "outputId": "5a16c884-6767-4ef0-e673-b0fec180c0ee"
      },
      "execution_count": 32,
      "outputs": [
        {
          "output_type": "stream",
          "name": "stdout",
          "text": [
            "3\n",
            "12\n"
          ]
        }
      ]
    },
    {
      "cell_type": "code",
      "source": [
        "#otras funciones utiles:\n",
        "tablero_ceros=np.zeros((8,8),int)#creamos un tablero de 8X8 con ceros\n",
        "#en cada uno de sus elementos\n",
        "print(tablero_ceros)\n",
        "\n",
        "\n",
        "tablero_unos=np.ones((8,8),int)#creamos un tablero de 8X8 con valores uno\n",
        "#en cada uno de sus elementos\n",
        "print(tablero_unos)"
      ],
      "metadata": {
        "colab": {
          "base_uri": "https://localhost:8080/"
        },
        "id": "_PqUkzKL565s",
        "outputId": "6341ce13-c614-4e51-c630-9511534ef20c"
      },
      "execution_count": 41,
      "outputs": [
        {
          "output_type": "stream",
          "name": "stdout",
          "text": [
            "[[0 0 0 0 0 0 0 0]\n",
            " [0 0 0 0 0 0 0 0]\n",
            " [0 0 0 0 0 0 0 0]\n",
            " [0 0 0 0 0 0 0 0]\n",
            " [0 0 0 0 0 0 0 0]\n",
            " [0 0 0 0 0 0 0 0]\n",
            " [0 0 0 0 0 0 0 0]\n",
            " [0 0 0 0 0 0 0 0]]\n",
            "[[1 1 1 1 1 1 1 1]\n",
            " [1 1 1 1 1 1 1 1]\n",
            " [1 1 1 1 1 1 1 1]\n",
            " [1 1 1 1 1 1 1 1]\n",
            " [1 1 1 1 1 1 1 1]\n",
            " [1 1 1 1 1 1 1 1]\n",
            " [1 1 1 1 1 1 1 1]\n",
            " [1 1 1 1 1 1 1 1]]\n"
          ]
        }
      ]
    },
    {
      "cell_type": "code",
      "source": [
        "#creamos un tablero inicializado en cualquier valor, ejemplo con 22.\n",
        "tablero_x=np.full((8,8),22,int)\n",
        "print(tablero_x)"
      ],
      "metadata": {
        "colab": {
          "base_uri": "https://localhost:8080/"
        },
        "id": "EpT-jmAI7eu8",
        "outputId": "a3dc5210-f40c-4e3a-929f-7c6fc641c2f2"
      },
      "execution_count": 44,
      "outputs": [
        {
          "output_type": "stream",
          "name": "stdout",
          "text": [
            "[[22 22 22 22 22 22 22 22]\n",
            " [22 22 22 22 22 22 22 22]\n",
            " [22 22 22 22 22 22 22 22]\n",
            " [22 22 22 22 22 22 22 22]\n",
            " [22 22 22 22 22 22 22 22]\n",
            " [22 22 22 22 22 22 22 22]\n",
            " [22 22 22 22 22 22 22 22]\n",
            " [22 22 22 22 22 22 22 22]]\n"
          ]
        }
      ]
    },
    {
      "cell_type": "code",
      "source": [
        "#arreglo inicializado con valores aleatorios\n",
        "tablero_a=np.random.rand(3,3)\n",
        "print(tablero_a)"
      ],
      "metadata": {
        "colab": {
          "base_uri": "https://localhost:8080/"
        },
        "id": "g3mIPL_C8CB2",
        "outputId": "d8c2bf69-8933-4696-d750-72ed368082f8"
      },
      "execution_count": 47,
      "outputs": [
        {
          "output_type": "stream",
          "name": "stdout",
          "text": [
            "[[0.27870904 0.63176177 0.13741564]\n",
            " [0.61533379 0.69739961 0.50892351]\n",
            " [0.57199643 0.87227405 0.34787479]]\n"
          ]
        }
      ]
    },
    {
      "cell_type": "code",
      "source": [
        "tablero_a2= np.random.randint(1,11,size=(8,8))\n",
        "print(tablero_a2)"
      ],
      "metadata": {
        "colab": {
          "base_uri": "https://localhost:8080/"
        },
        "id": "3g92wPkH8fTc",
        "outputId": "85bac9dd-fc2a-408c-abf6-67140c15a92d"
      },
      "execution_count": 77,
      "outputs": [
        {
          "output_type": "stream",
          "name": "stdout",
          "text": [
            "[[ 3  9  6  1  6 10  9  7]\n",
            " [ 3  6  5  9  3  4  8  7]\n",
            " [ 8  5  4  6  6  7  8  2]\n",
            " [ 9  5 10  9  3  1  3  8]\n",
            " [ 7  8  1  4  5  6  6  2]\n",
            " [ 9  2  5  9  2  6  5  9]\n",
            " [ 8  8  6  5  5  9  3  7]\n",
            " [ 9  7  5  1 10  4 10  2]]\n"
          ]
        }
      ]
    },
    {
      "cell_type": "code",
      "source": [
        "suma_f = 0\n",
        "suma_f2 = 0\n",
        "for i in range (8): #este for dará 8 vueltas o iteraciones\n",
        "  #print(i)\n",
        "  suma_f=0\n",
        "  for j in range (8):\n",
        "    suma_f = suma_f + tablero_a2[i][j]\n",
        "  print(f\"La suma de la fila {i} es {suma_f}\")"
      ],
      "metadata": {
        "colab": {
          "base_uri": "https://localhost:8080/"
        },
        "id": "oCZn6xml-Swz",
        "outputId": "783cac16-d645-4474-e875-d48252b5a5c2"
      },
      "execution_count": 79,
      "outputs": [
        {
          "output_type": "stream",
          "name": "stdout",
          "text": [
            "La suma de la fila 0 es 51\n",
            "La suma de la fila 1 es 45\n",
            "La suma de la fila 2 es 46\n",
            "La suma de la fila 3 es 48\n",
            "La suma de la fila 4 es 39\n",
            "La suma de la fila 5 es 47\n",
            "La suma de la fila 6 es 51\n",
            "La suma de la fila 7 es 48\n"
          ]
        }
      ]
    },
    {
      "cell_type": "code",
      "source": [
        "#propiedad \"reshape\", perimite redimnesionar una matriz o un vector\n",
        "#siempre y cuando la multipliacción de las filas y columnas de la\n",
        "#nueva matriz sea igual al número total de elementos de la matriz original.\n",
        "print(arreglo)\n",
        "#redimensionamos \"arreglo\" a una matriz 6x1\n",
        "nuevo_arreglo = arreglo.reshape((6,1))\n",
        "print(nuevo_arreglo)\n",
        "\n",
        "#redimensionamos \"arreglo\" a una matriz 3x2\n",
        "nuevo_arreglo1 = arreglo.reshape((3,2))\n",
        "print(nuevo_arreglo1)\n"
      ],
      "metadata": {
        "colab": {
          "base_uri": "https://localhost:8080/"
        },
        "id": "tA-0lCUjEJ0s",
        "outputId": "87026593-9120-4e11-9d0d-d64843443976"
      },
      "execution_count": 88,
      "outputs": [
        {
          "output_type": "stream",
          "name": "stdout",
          "text": [
            "[1 2 3 9 8 7]\n",
            "[[1]\n",
            " [2]\n",
            " [3]\n",
            " [9]\n",
            " [8]\n",
            " [7]]\n",
            "[[1 2]\n",
            " [3 9]\n",
            " [8 7]]\n"
          ]
        }
      ]
    }
  ]
}