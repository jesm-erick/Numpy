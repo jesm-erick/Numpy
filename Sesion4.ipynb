{
  "nbformat": 4,
  "nbformat_minor": 0,
  "metadata": {
    "colab": {
      "provenance": [],
      "authorship_tag": "ABX9TyPPsrcyc/nVz9147GJQMPjA",
      "include_colab_link": true
    },
    "kernelspec": {
      "name": "python3",
      "display_name": "Python 3"
    },
    "language_info": {
      "name": "python"
    }
  },
  "cells": [
    {
      "cell_type": "markdown",
      "metadata": {
        "id": "view-in-github",
        "colab_type": "text"
      },
      "source": [
        "<a href=\"https://colab.research.google.com/github/jesm-erick/Numpy/blob/main/Sesion4.ipynb\" target=\"_parent\"><img src=\"https://colab.research.google.com/assets/colab-badge.svg\" alt=\"Open In Colab\"/></a>"
      ]
    },
    {
      "cell_type": "markdown",
      "source": [
        "# **Guía Práctica de NumPy**"
      ],
      "metadata": {
        "id": "xF4cGIqRcyD1"
      }
    },
    {
      "cell_type": "markdown",
      "source": [
        "**Importar NumPy:**"
      ],
      "metadata": {
        "id": "qx8gRIM7aGXO"
      }
    },
    {
      "cell_type": "code",
      "execution_count": 75,
      "metadata": {
        "id": "K0NJXF43O3Wz"
      },
      "outputs": [],
      "source": [
        "import numpy as np"
      ]
    },
    {
      "cell_type": "markdown",
      "source": [
        "**1. Creación de Arrays:**"
      ],
      "metadata": {
        "id": "6gFMIKf2aLzm"
      }
    },
    {
      "cell_type": "code",
      "source": [
        "#Crea un array unidimensional (vector) con 5 elementos enteros de tu elección.\n",
        "array = np.array([2,3,4,5,6])\n",
        "print(array)"
      ],
      "metadata": {
        "colab": {
          "base_uri": "https://localhost:8080/"
        },
        "id": "iiLCENaxPu-t",
        "outputId": "c16f636d-412d-4996-d8db-6e149ec98754"
      },
      "execution_count": 76,
      "outputs": [
        {
          "output_type": "stream",
          "name": "stdout",
          "text": [
            "[2 3 4 5 6]\n"
          ]
        }
      ]
    },
    {
      "cell_type": "code",
      "source": [
        "#Crea una matriz bidimensional (matriz) de tamaño 3x3 con valores enteros consecutivos.\n",
        "new_array = np.array([[4,5,6],[7,8,9],[10,11,12]])\n",
        "print(new_array)"
      ],
      "metadata": {
        "colab": {
          "base_uri": "https://localhost:8080/"
        },
        "id": "uPQJlMy_QB8J",
        "outputId": "90a51f06-eb7b-4b4a-d7ee-0360295f2776"
      },
      "execution_count": 77,
      "outputs": [
        {
          "output_type": "stream",
          "name": "stdout",
          "text": [
            "[[ 4  5  6]\n",
            " [ 7  8  9]\n",
            " [10 11 12]]\n"
          ]
        }
      ]
    },
    {
      "cell_type": "code",
      "source": [
        "#Utiliza la función np.zeros() para crear una matriz de tamaño 2x4 llena de ceros.\n",
        "array_zeros = np.zeros([2,4], int)\n",
        "print(array_zeros)"
      ],
      "metadata": {
        "colab": {
          "base_uri": "https://localhost:8080/"
        },
        "id": "Kqj44u5GRCLj",
        "outputId": "f9e2f7af-2b48-4adc-a478-52583ba0a1c3"
      },
      "execution_count": 78,
      "outputs": [
        {
          "output_type": "stream",
          "name": "stdout",
          "text": [
            "[[0 0 0 0]\n",
            " [0 0 0 0]]\n"
          ]
        }
      ]
    },
    {
      "cell_type": "code",
      "source": [
        "# Utiliza la función np.ones() para crear una matriz de tamaño 3x2 llena de unos.\n",
        "\n",
        "array_ones = np.ones([3,2], int)\n",
        "print(array_ones)"
      ],
      "metadata": {
        "colab": {
          "base_uri": "https://localhost:8080/"
        },
        "id": "5PhtprewRVQx",
        "outputId": "99afc221-d3f3-4a12-e0fd-6540124e12ed"
      },
      "execution_count": 79,
      "outputs": [
        {
          "output_type": "stream",
          "name": "stdout",
          "text": [
            "[[1 1]\n",
            " [1 1]\n",
            " [1 1]]\n"
          ]
        }
      ]
    },
    {
      "cell_type": "code",
      "source": [
        "# Utiliza la función np.random.randint() para crear una matriz de tamaño 4x4 con números enteros aleatorios entre 0 y 10.\n",
        "\n",
        "array_random_0_10 = np.random.randint(0,10, size=(4,4))\n",
        "\n",
        "print(array_random_0_10)"
      ],
      "metadata": {
        "colab": {
          "base_uri": "https://localhost:8080/"
        },
        "id": "0kP68JzjRlh7",
        "outputId": "0671049f-eccd-41c8-9b43-4481c81acaf8"
      },
      "execution_count": 80,
      "outputs": [
        {
          "output_type": "stream",
          "name": "stdout",
          "text": [
            "[[5 0 2 4]\n",
            " [3 9 7 8]\n",
            " [8 3 8 2]\n",
            " [2 6 5 8]]\n"
          ]
        }
      ]
    },
    {
      "cell_type": "markdown",
      "source": [
        "**2. Acceso a Elementos:**"
      ],
      "metadata": {
        "id": "0t2fbUJdaP_W"
      }
    },
    {
      "cell_type": "code",
      "source": [
        "# Accede al tercer elemento del vector creado en el paso 1.\n",
        "elemento_3 = array[2]\n",
        "\n",
        "print(elemento_3)"
      ],
      "metadata": {
        "colab": {
          "base_uri": "https://localhost:8080/"
        },
        "id": "gai-n8j1R4_o",
        "outputId": "08f3610f-a719-4407-e141-ea638e727154"
      },
      "execution_count": 81,
      "outputs": [
        {
          "output_type": "stream",
          "name": "stdout",
          "text": [
            "4\n"
          ]
        }
      ]
    },
    {
      "cell_type": "code",
      "source": [
        "#Accede al elemento en la segunda fila y segunda columna de la matriz creada en el paso 2.\n",
        "elemento_2 = new_array[1][1]\n",
        "print(elemento_2)"
      ],
      "metadata": {
        "colab": {
          "base_uri": "https://localhost:8080/"
        },
        "id": "HDAJA_b2STPn",
        "outputId": "e39e4e8d-e2ec-4919-cc86-09fc29d0f28c"
      },
      "execution_count": 82,
      "outputs": [
        {
          "output_type": "stream",
          "name": "stdout",
          "text": [
            "8\n"
          ]
        }
      ]
    },
    {
      "cell_type": "markdown",
      "source": [
        "**3. Propiedades de los Arrays:**"
      ],
      "metadata": {
        "id": "E-KEIrEsaTVF"
      }
    },
    {
      "cell_type": "code",
      "source": [
        "# Utiliza el atributo ndim para verificar la cantidad de dimensiones de la matriz creada en el paso 2.\n",
        "\n",
        "print(new_array.ndim)"
      ],
      "metadata": {
        "colab": {
          "base_uri": "https://localhost:8080/"
        },
        "id": "ENNis8XWTWVV",
        "outputId": "541d2c65-bc2b-42a0-f9c9-442c08f6614e"
      },
      "execution_count": 83,
      "outputs": [
        {
          "output_type": "stream",
          "name": "stdout",
          "text": [
            "2\n"
          ]
        }
      ]
    },
    {
      "cell_type": "code",
      "source": [
        "# Utiliza el atributo shape para obtener la forma de la matriz creada en el paso 2.\n",
        "print(new_array.shape)"
      ],
      "metadata": {
        "colab": {
          "base_uri": "https://localhost:8080/"
        },
        "id": "u4vNvEASTxge",
        "outputId": "d9355c55-8eae-4acd-f85a-e90572e5ed26"
      },
      "execution_count": 84,
      "outputs": [
        {
          "output_type": "stream",
          "name": "stdout",
          "text": [
            "(3, 3)\n"
          ]
        }
      ]
    },
    {
      "cell_type": "code",
      "source": [
        "# Utiliza el atributo size para obtener el tamaño total de la matriz creada en el paso 2.\n",
        "\n",
        "print(new_array.size)"
      ],
      "metadata": {
        "colab": {
          "base_uri": "https://localhost:8080/"
        },
        "id": "Lv8cSnywT8CG",
        "outputId": "d4243691-ba18-403f-8ff9-ce927c5258a9"
      },
      "execution_count": 21,
      "outputs": [
        {
          "output_type": "stream",
          "name": "stdout",
          "text": [
            "9\n"
          ]
        }
      ]
    },
    {
      "cell_type": "markdown",
      "source": [
        "**4. Operaciones Básicas:**"
      ],
      "metadata": {
        "id": "lQcD4-FyaeF4"
      }
    },
    {
      "cell_type": "code",
      "source": [
        "# Suma dos matrices de tamaño 2x2 con valores aleatorios entre 0 y 10.\n",
        "\n",
        "matriz_a = np.random.randint(0,10, size=(2,2))\n",
        "matriz_b = np.random.randint(0,10, size=(2,2))\n",
        "suma = matriz_a + matriz_b\n",
        "print(f\"Matriz A: \\n {matriz_a}\")\n",
        "print(f\"Matriz B: \\n {matriz_b}\")\n",
        "print(f\"Suma : \\n {suma}\")"
      ],
      "metadata": {
        "colab": {
          "base_uri": "https://localhost:8080/"
        },
        "id": "-X__dDYsUEw-",
        "outputId": "bf33b3bf-e64b-471d-eea4-f7d13a3e269a"
      },
      "execution_count": 85,
      "outputs": [
        {
          "output_type": "stream",
          "name": "stdout",
          "text": [
            "Matriz A: \n",
            " [[6 6]\n",
            " [5 7]]\n",
            "Matriz B: \n",
            " [[0 8]\n",
            " [5 3]]\n",
            "Suma : \n",
            " [[ 6 14]\n",
            " [10 10]]\n"
          ]
        }
      ]
    },
    {
      "cell_type": "code",
      "source": [
        "# Multiplica dos matrices de tamaño 3x2 y 2x3 respectivamente.\n",
        "\n",
        "matriz_a = np.random.randint(0, 10, size=(3, 2))\n",
        "matriz_b = np.random.randint(0, 10, size=(2, 3))\n",
        "\n",
        "producto = np.dot(matriz_a, matriz_b)\n",
        "\n",
        "print(f\"Matriz 3x2: \\n{matriz_a}\")\n",
        "print(f\"Matriz 2x3: \\n{matriz_b}\")\n",
        "print(f\"Producto: \\n{producto}\")\n"
      ],
      "metadata": {
        "colab": {
          "base_uri": "https://localhost:8080/"
        },
        "id": "XqPk4q4vUqam",
        "outputId": "f85df111-4187-4b80-d2df-f7798ed435ba"
      },
      "execution_count": 86,
      "outputs": [
        {
          "output_type": "stream",
          "name": "stdout",
          "text": [
            "Matriz 3x2: \n",
            "[[2 8]\n",
            " [9 2]\n",
            " [7 3]]\n",
            "Matriz 2x3: \n",
            "[[0 5 6]\n",
            " [9 9 7]]\n",
            "Producto: \n",
            "[[72 82 68]\n",
            " [18 63 68]\n",
            " [27 62 63]]\n"
          ]
        }
      ]
    },
    {
      "cell_type": "code",
      "source": [
        "# Divide una matriz de tamaño 2x2 por otra matriz de tamaño 2x2,\n",
        "matriz_a = np.random.randint(1, 10, size=(2, 2))\n",
        "matriz_b = np.random.randint(1, 10, size=(2, 2))\n",
        "\n",
        "division = matriz_a / matriz_b\n",
        "\n",
        "print(f\"Matriz A: \\n {matriz_a}\")\n",
        "print(f\"Matriz B: \\n {matriz_b}\")\n",
        "print(f\"Division : \\n {division}\")"
      ],
      "metadata": {
        "colab": {
          "base_uri": "https://localhost:8080/"
        },
        "id": "yGAlpvWBVJ9b",
        "outputId": "2903fc34-bcc0-437a-c9ea-ec6bbbb0ce93"
      },
      "execution_count": 87,
      "outputs": [
        {
          "output_type": "stream",
          "name": "stdout",
          "text": [
            "Matriz A: \n",
            " [[2 9]\n",
            " [6 8]]\n",
            "Matriz B: \n",
            " [[1 7]\n",
            " [1 2]]\n",
            "Division : \n",
            " [[2.         1.28571429]\n",
            " [6.         4.        ]]\n"
          ]
        }
      ]
    },
    {
      "cell_type": "markdown",
      "source": [
        "**5. Manipulación de Arrays:**"
      ],
      "metadata": {
        "id": "lTkg81u2ajHH"
      }
    },
    {
      "cell_type": "code",
      "source": [
        "# Utiliza la función reshape() para convertir el vector creado en el paso 2 en una matriz de tamaño 2x3.\n",
        "\n",
        "reshape = new_array.reshape((9,1))\n",
        "print(reshape)"
      ],
      "metadata": {
        "colab": {
          "base_uri": "https://localhost:8080/"
        },
        "id": "UsN5V0r2Vqtz",
        "outputId": "f271713f-1336-430c-b3ea-0f3a5d28a0fa"
      },
      "execution_count": 88,
      "outputs": [
        {
          "output_type": "stream",
          "name": "stdout",
          "text": [
            "[[ 4]\n",
            " [ 5]\n",
            " [ 6]\n",
            " [ 7]\n",
            " [ 8]\n",
            " [ 9]\n",
            " [10]\n",
            " [11]\n",
            " [12]]\n"
          ]
        }
      ]
    },
    {
      "cell_type": "code",
      "source": [
        "# Utiliza la función flatten() para convertir la matriz creada en el paso 2 en un vector unidimensional.\n",
        "\n",
        "flatten= new_array.flatten()\n",
        "print(flatten)\n"
      ],
      "metadata": {
        "colab": {
          "base_uri": "https://localhost:8080/"
        },
        "id": "B1Ec-SZaWYJT",
        "outputId": "95a3e612-cc67-44d5-bfba-006ae6ea1cc4"
      },
      "execution_count": 89,
      "outputs": [
        {
          "output_type": "stream",
          "name": "stdout",
          "text": [
            "[ 4  5  6  7  8  9 10 11 12]\n"
          ]
        }
      ]
    },
    {
      "cell_type": "markdown",
      "source": [
        "**6. Operaciones Estadísticas:**"
      ],
      "metadata": {
        "id": "0_FHsP-ca0Ht"
      }
    },
    {
      "cell_type": "code",
      "source": [
        "# Calcula la suma de todos los elementos de la matriz creada en el paso 2.\n",
        "\n",
        "sum_of_elements = np.sum(new_array)\n",
        "print(f\"Arreglo: \\n {new_array}\")\n",
        "print(f\"La suma de todos los elementos es: {sum_of_elements}\")\n"
      ],
      "metadata": {
        "colab": {
          "base_uri": "https://localhost:8080/"
        },
        "id": "dgJTiUfAWwYq",
        "outputId": "e1136731-1083-4aed-ff8e-d03740a9d0d1"
      },
      "execution_count": 90,
      "outputs": [
        {
          "output_type": "stream",
          "name": "stdout",
          "text": [
            "Arreglo: \n",
            " [[ 4  5  6]\n",
            " [ 7  8  9]\n",
            " [10 11 12]]\n",
            "La suma de todos los elementos es: 72\n"
          ]
        }
      ]
    },
    {
      "cell_type": "code",
      "source": [
        "# Calcula la media de cada fila de la matriz creada en el paso 2.\n",
        "\n",
        "media = np.mean(new_array, axis=1,)\n",
        "print(f\"Arreglo: \\n {new_array}\")\n",
        "print(f\"La media de cada fila es: {media}\")\n"
      ],
      "metadata": {
        "colab": {
          "base_uri": "https://localhost:8080/"
        },
        "id": "exycts0_YbPa",
        "outputId": "946a216d-3b95-459a-d2e9-2c1b0a81f798"
      },
      "execution_count": 91,
      "outputs": [
        {
          "output_type": "stream",
          "name": "stdout",
          "text": [
            "Arreglo: \n",
            " [[ 4  5  6]\n",
            " [ 7  8  9]\n",
            " [10 11 12]]\n",
            "La media de cada fila es: [ 5.  8. 11.]\n"
          ]
        }
      ]
    },
    {
      "cell_type": "markdown",
      "source": [
        "**7. Indexación y Rebanado:**"
      ],
      "metadata": {
        "id": "r56UNE2ba2ct"
      }
    },
    {
      "cell_type": "code",
      "source": [
        "# Imprime la primera fila de la matriz creada en el paso 2.\n",
        "\n",
        "print(new_array[0])\n"
      ],
      "metadata": {
        "colab": {
          "base_uri": "https://localhost:8080/"
        },
        "id": "ofrzErVhY6bI",
        "outputId": "5a9564bb-c223-4a30-9b8e-3246b76070ef"
      },
      "execution_count": 92,
      "outputs": [
        {
          "output_type": "stream",
          "name": "stdout",
          "text": [
            "[4 5 6]\n"
          ]
        }
      ]
    },
    {
      "cell_type": "code",
      "source": [
        "# Imprime las primeras dos columnas de la matriz creada en el paso 2.\n",
        "\n",
        "print(new_array[:, :2])"
      ],
      "metadata": {
        "colab": {
          "base_uri": "https://localhost:8080/"
        },
        "id": "aonvEZw8Y_uA",
        "outputId": "5b7dac65-b4f8-48f2-c083-e7fa832f59a9"
      },
      "execution_count": 64,
      "outputs": [
        {
          "output_type": "stream",
          "name": "stdout",
          "text": [
            "[[ 4  5]\n",
            " [ 7  8]\n",
            " [10 11]]\n"
          ]
        }
      ]
    },
    {
      "cell_type": "markdown",
      "source": [
        "**8. Ejercicio Adicional:**"
      ],
      "metadata": {
        "id": "hSJ5o5kWa6mO"
      }
    },
    {
      "cell_type": "code",
      "source": [
        "# Define una matriz de tamaño 4x4 con valores aleatorios.\n",
        "\n",
        "matriz =np.random.rand(4,4)\n",
        "print(matriz)"
      ],
      "metadata": {
        "colab": {
          "base_uri": "https://localhost:8080/"
        },
        "id": "5crYVwRlZMHd",
        "outputId": "6c516817-177c-432c-dfdf-ca0e566cbd44"
      },
      "execution_count": 94,
      "outputs": [
        {
          "output_type": "stream",
          "name": "stdout",
          "text": [
            "[[0.73612288 0.44088892 0.04072247 0.53402688]\n",
            " [0.65027928 0.39298267 0.59354041 0.91452088]\n",
            " [0.4313196  0.61295284 0.20687584 0.33371399]\n",
            " [0.29591212 0.65279782 0.12931791 0.08522338]]\n"
          ]
        }
      ]
    },
    {
      "cell_type": "code",
      "source": [
        "# Encuentra el valor máximo y su posición en filas y columnas.\n",
        "max_value = np.max(matriz)\n",
        "max_index = np.argmax(matriz)\n",
        "max_row = max_index // 4\n",
        "max_col = max_index % 4\n",
        "\n",
        "# Encuentra el valor mínimo y su posición en filas y columnas.\n",
        "min_value = np.min(matriz)\n",
        "min_index = np.argmin(matriz)\n",
        "min_row = min_index // 4\n",
        "min_col = min_index % 4\n",
        "\n",
        "# Imprime los resultados.\n",
        "print(\"Matriz:\")\n",
        "print(matriz)\n",
        "print(\"\\nValor máximo:\", max_value)\n",
        "print(\"Fila:\", max_row, \"Columna:\", max_col)\n",
        "print(\"\\nValor mínimo:\", min_value)\n",
        "print(\"Fila:\", min_row, \"Columna:\", min_col)\n"
      ],
      "metadata": {
        "colab": {
          "base_uri": "https://localhost:8080/"
        },
        "id": "rFXlJGooZeR9",
        "outputId": "c4fc84d4-0cb1-4ba8-b86e-3995f8cbfff5"
      },
      "execution_count": 93,
      "outputs": [
        {
          "output_type": "stream",
          "name": "stdout",
          "text": [
            "Matriz:\n",
            "[[0.78831868 0.51593728 0.26846669 0.21151564]\n",
            " [0.00677973 0.46367112 0.38248523 0.56034837]\n",
            " [0.69899324 0.10836226 0.61158789 0.18010783]\n",
            " [0.82796825 0.01599738 0.39933679 0.84568685]]\n",
            "\n",
            "Valor máximo: 0.8456868516968259\n",
            "Fila: 3 Columna: 3\n",
            "\n",
            "Valor mínimo: 0.006779729296704118\n",
            "Fila: 1 Columna: 0\n"
          ]
        }
      ]
    }
  ]
}